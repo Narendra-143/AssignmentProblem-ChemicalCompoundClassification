{
  "nbformat": 4,
  "nbformat_minor": 0,
  "metadata": {
    "colab": {
      "name": "Internshala_assignment.ipynb",
      "provenance": []
    },
    "kernelspec": {
      "name": "python3",
      "display_name": "Python 3"
    }
  },
  "cells": [
    {
      "cell_type": "code",
      "metadata": {
        "colab": {
          "base_uri": "https://localhost:8080/"
        },
        "id": "lIKyF22RXOKE",
        "outputId": "634f57ff-9b7f-4662-e53c-f9409c954bba"
      },
      "source": [
        "#Importing Libraries\n",
        "import pandas as pd\n",
        "import numpy as np\n",
        "import xgboost\n",
        "import tensorflow as tf\n",
        "import matplotlib.pyplot as plt\n",
        "\n",
        "from tensorflow import keras\n",
        "from tensorflow.keras import layers\n",
        "print(tf.__version__)\n",
        "tf.executing_eagerly()"
      ],
      "execution_count": 1,
      "outputs": [
        {
          "output_type": "stream",
          "text": [
            "2.3.0\n"
          ],
          "name": "stdout"
        },
        {
          "output_type": "execute_result",
          "data": {
            "text/plain": [
              "True"
            ]
          },
          "metadata": {
            "tags": []
          },
          "execution_count": 1
        }
      ]
    },
    {
      "cell_type": "code",
      "metadata": {
        "colab": {
          "base_uri": "https://localhost:8080/",
          "height": 253
        },
        "id": "28S-r7USXz80",
        "outputId": "3c28ec0e-2573-459f-b0bf-bec072b3dc42"
      },
      "source": [
        "#Reading the data file\n",
        "df = pd.read_csv('/content/musk_csv.csv')\n",
        "df.head()"
      ],
      "execution_count": 2,
      "outputs": [
        {
          "output_type": "execute_result",
          "data": {
            "text/html": [
              "<div>\n",
              "<style scoped>\n",
              "    .dataframe tbody tr th:only-of-type {\n",
              "        vertical-align: middle;\n",
              "    }\n",
              "\n",
              "    .dataframe tbody tr th {\n",
              "        vertical-align: top;\n",
              "    }\n",
              "\n",
              "    .dataframe thead th {\n",
              "        text-align: right;\n",
              "    }\n",
              "</style>\n",
              "<table border=\"1\" class=\"dataframe\">\n",
              "  <thead>\n",
              "    <tr style=\"text-align: right;\">\n",
              "      <th></th>\n",
              "      <th>ID</th>\n",
              "      <th>molecule_name</th>\n",
              "      <th>conformation_name</th>\n",
              "      <th>f1</th>\n",
              "      <th>f2</th>\n",
              "      <th>f3</th>\n",
              "      <th>f4</th>\n",
              "      <th>f5</th>\n",
              "      <th>f6</th>\n",
              "      <th>f7</th>\n",
              "      <th>f8</th>\n",
              "      <th>f9</th>\n",
              "      <th>f10</th>\n",
              "      <th>f11</th>\n",
              "      <th>f12</th>\n",
              "      <th>f13</th>\n",
              "      <th>f14</th>\n",
              "      <th>f15</th>\n",
              "      <th>f16</th>\n",
              "      <th>f17</th>\n",
              "      <th>f18</th>\n",
              "      <th>f19</th>\n",
              "      <th>f20</th>\n",
              "      <th>f21</th>\n",
              "      <th>f22</th>\n",
              "      <th>f23</th>\n",
              "      <th>f24</th>\n",
              "      <th>f25</th>\n",
              "      <th>f26</th>\n",
              "      <th>f27</th>\n",
              "      <th>f28</th>\n",
              "      <th>f29</th>\n",
              "      <th>f30</th>\n",
              "      <th>f31</th>\n",
              "      <th>f32</th>\n",
              "      <th>f33</th>\n",
              "      <th>f34</th>\n",
              "      <th>f35</th>\n",
              "      <th>f36</th>\n",
              "      <th>f37</th>\n",
              "      <th>...</th>\n",
              "      <th>f128</th>\n",
              "      <th>f129</th>\n",
              "      <th>f130</th>\n",
              "      <th>f131</th>\n",
              "      <th>f132</th>\n",
              "      <th>f133</th>\n",
              "      <th>f134</th>\n",
              "      <th>f135</th>\n",
              "      <th>f136</th>\n",
              "      <th>f137</th>\n",
              "      <th>f138</th>\n",
              "      <th>f139</th>\n",
              "      <th>f140</th>\n",
              "      <th>f141</th>\n",
              "      <th>f142</th>\n",
              "      <th>f143</th>\n",
              "      <th>f144</th>\n",
              "      <th>f145</th>\n",
              "      <th>f146</th>\n",
              "      <th>f147</th>\n",
              "      <th>f148</th>\n",
              "      <th>f149</th>\n",
              "      <th>f150</th>\n",
              "      <th>f151</th>\n",
              "      <th>f152</th>\n",
              "      <th>f153</th>\n",
              "      <th>f154</th>\n",
              "      <th>f155</th>\n",
              "      <th>f156</th>\n",
              "      <th>f157</th>\n",
              "      <th>f158</th>\n",
              "      <th>f159</th>\n",
              "      <th>f160</th>\n",
              "      <th>f161</th>\n",
              "      <th>f162</th>\n",
              "      <th>f163</th>\n",
              "      <th>f164</th>\n",
              "      <th>f165</th>\n",
              "      <th>f166</th>\n",
              "      <th>class</th>\n",
              "    </tr>\n",
              "  </thead>\n",
              "  <tbody>\n",
              "    <tr>\n",
              "      <th>0</th>\n",
              "      <td>1</td>\n",
              "      <td>MUSK-211</td>\n",
              "      <td>211_1+1</td>\n",
              "      <td>46</td>\n",
              "      <td>-108</td>\n",
              "      <td>-60</td>\n",
              "      <td>-69</td>\n",
              "      <td>-117</td>\n",
              "      <td>49</td>\n",
              "      <td>38</td>\n",
              "      <td>-161</td>\n",
              "      <td>-8</td>\n",
              "      <td>5</td>\n",
              "      <td>-323</td>\n",
              "      <td>-220</td>\n",
              "      <td>-113</td>\n",
              "      <td>-299</td>\n",
              "      <td>-283</td>\n",
              "      <td>-307</td>\n",
              "      <td>-31</td>\n",
              "      <td>-106</td>\n",
              "      <td>-227</td>\n",
              "      <td>-42</td>\n",
              "      <td>-59</td>\n",
              "      <td>-22</td>\n",
              "      <td>-67</td>\n",
              "      <td>189</td>\n",
              "      <td>81</td>\n",
              "      <td>17</td>\n",
              "      <td>-27</td>\n",
              "      <td>-89</td>\n",
              "      <td>-67</td>\n",
              "      <td>105</td>\n",
              "      <td>-116</td>\n",
              "      <td>124</td>\n",
              "      <td>-106</td>\n",
              "      <td>5</td>\n",
              "      <td>-120</td>\n",
              "      <td>63</td>\n",
              "      <td>-165</td>\n",
              "      <td>...</td>\n",
              "      <td>81</td>\n",
              "      <td>-114</td>\n",
              "      <td>-187</td>\n",
              "      <td>45</td>\n",
              "      <td>-118</td>\n",
              "      <td>-75</td>\n",
              "      <td>-182</td>\n",
              "      <td>-234</td>\n",
              "      <td>-19</td>\n",
              "      <td>12</td>\n",
              "      <td>-13</td>\n",
              "      <td>-41</td>\n",
              "      <td>-119</td>\n",
              "      <td>-149</td>\n",
              "      <td>70</td>\n",
              "      <td>17</td>\n",
              "      <td>-20</td>\n",
              "      <td>-177</td>\n",
              "      <td>-101</td>\n",
              "      <td>-116</td>\n",
              "      <td>-14</td>\n",
              "      <td>-50</td>\n",
              "      <td>24</td>\n",
              "      <td>-81</td>\n",
              "      <td>-125</td>\n",
              "      <td>-114</td>\n",
              "      <td>-44</td>\n",
              "      <td>128</td>\n",
              "      <td>3</td>\n",
              "      <td>-244</td>\n",
              "      <td>-308</td>\n",
              "      <td>52</td>\n",
              "      <td>-7</td>\n",
              "      <td>39</td>\n",
              "      <td>126</td>\n",
              "      <td>156</td>\n",
              "      <td>-50</td>\n",
              "      <td>-112</td>\n",
              "      <td>96</td>\n",
              "      <td>1</td>\n",
              "    </tr>\n",
              "    <tr>\n",
              "      <th>1</th>\n",
              "      <td>2</td>\n",
              "      <td>MUSK-211</td>\n",
              "      <td>211_1+10</td>\n",
              "      <td>41</td>\n",
              "      <td>-188</td>\n",
              "      <td>-145</td>\n",
              "      <td>22</td>\n",
              "      <td>-117</td>\n",
              "      <td>-6</td>\n",
              "      <td>57</td>\n",
              "      <td>-171</td>\n",
              "      <td>-39</td>\n",
              "      <td>-100</td>\n",
              "      <td>-319</td>\n",
              "      <td>-111</td>\n",
              "      <td>-228</td>\n",
              "      <td>-281</td>\n",
              "      <td>-281</td>\n",
              "      <td>-300</td>\n",
              "      <td>54</td>\n",
              "      <td>-149</td>\n",
              "      <td>-98</td>\n",
              "      <td>-196</td>\n",
              "      <td>-27</td>\n",
              "      <td>-22</td>\n",
              "      <td>2</td>\n",
              "      <td>75</td>\n",
              "      <td>49</td>\n",
              "      <td>-34</td>\n",
              "      <td>45</td>\n",
              "      <td>-91</td>\n",
              "      <td>32</td>\n",
              "      <td>95</td>\n",
              "      <td>-116</td>\n",
              "      <td>85</td>\n",
              "      <td>-23</td>\n",
              "      <td>42</td>\n",
              "      <td>-58</td>\n",
              "      <td>61</td>\n",
              "      <td>-171</td>\n",
              "      <td>...</td>\n",
              "      <td>88</td>\n",
              "      <td>-21</td>\n",
              "      <td>-32</td>\n",
              "      <td>32</td>\n",
              "      <td>-128</td>\n",
              "      <td>-72</td>\n",
              "      <td>-124</td>\n",
              "      <td>-218</td>\n",
              "      <td>-94</td>\n",
              "      <td>53</td>\n",
              "      <td>-79</td>\n",
              "      <td>-20</td>\n",
              "      <td>-35</td>\n",
              "      <td>-26</td>\n",
              "      <td>4</td>\n",
              "      <td>50</td>\n",
              "      <td>17</td>\n",
              "      <td>-177</td>\n",
              "      <td>-102</td>\n",
              "      <td>-121</td>\n",
              "      <td>-66</td>\n",
              "      <td>-77</td>\n",
              "      <td>51</td>\n",
              "      <td>-41</td>\n",
              "      <td>-34</td>\n",
              "      <td>-32</td>\n",
              "      <td>-63</td>\n",
              "      <td>115</td>\n",
              "      <td>-5</td>\n",
              "      <td>-235</td>\n",
              "      <td>-59</td>\n",
              "      <td>-2</td>\n",
              "      <td>52</td>\n",
              "      <td>103</td>\n",
              "      <td>136</td>\n",
              "      <td>169</td>\n",
              "      <td>-61</td>\n",
              "      <td>-136</td>\n",
              "      <td>79</td>\n",
              "      <td>1</td>\n",
              "    </tr>\n",
              "    <tr>\n",
              "      <th>2</th>\n",
              "      <td>3</td>\n",
              "      <td>MUSK-211</td>\n",
              "      <td>211_1+11</td>\n",
              "      <td>46</td>\n",
              "      <td>-194</td>\n",
              "      <td>-145</td>\n",
              "      <td>28</td>\n",
              "      <td>-117</td>\n",
              "      <td>73</td>\n",
              "      <td>57</td>\n",
              "      <td>-168</td>\n",
              "      <td>-39</td>\n",
              "      <td>-22</td>\n",
              "      <td>-319</td>\n",
              "      <td>-111</td>\n",
              "      <td>-104</td>\n",
              "      <td>-283</td>\n",
              "      <td>-282</td>\n",
              "      <td>-303</td>\n",
              "      <td>52</td>\n",
              "      <td>-152</td>\n",
              "      <td>-97</td>\n",
              "      <td>-225</td>\n",
              "      <td>-28</td>\n",
              "      <td>-22</td>\n",
              "      <td>2</td>\n",
              "      <td>179</td>\n",
              "      <td>49</td>\n",
              "      <td>-33</td>\n",
              "      <td>46</td>\n",
              "      <td>-88</td>\n",
              "      <td>22</td>\n",
              "      <td>79</td>\n",
              "      <td>-116</td>\n",
              "      <td>19</td>\n",
              "      <td>-11</td>\n",
              "      <td>6</td>\n",
              "      <td>-38</td>\n",
              "      <td>71</td>\n",
              "      <td>-175</td>\n",
              "      <td>...</td>\n",
              "      <td>64</td>\n",
              "      <td>0</td>\n",
              "      <td>-23</td>\n",
              "      <td>-15</td>\n",
              "      <td>-129</td>\n",
              "      <td>-74</td>\n",
              "      <td>-125</td>\n",
              "      <td>-221</td>\n",
              "      <td>-93</td>\n",
              "      <td>53</td>\n",
              "      <td>-72</td>\n",
              "      <td>-19</td>\n",
              "      <td>-33</td>\n",
              "      <td>-26</td>\n",
              "      <td>3</td>\n",
              "      <td>49</td>\n",
              "      <td>17</td>\n",
              "      <td>-177</td>\n",
              "      <td>-102</td>\n",
              "      <td>-119</td>\n",
              "      <td>-66</td>\n",
              "      <td>-81</td>\n",
              "      <td>51</td>\n",
              "      <td>-41</td>\n",
              "      <td>-27</td>\n",
              "      <td>-41</td>\n",
              "      <td>-140</td>\n",
              "      <td>77</td>\n",
              "      <td>-163</td>\n",
              "      <td>-238</td>\n",
              "      <td>-134</td>\n",
              "      <td>-154</td>\n",
              "      <td>57</td>\n",
              "      <td>143</td>\n",
              "      <td>142</td>\n",
              "      <td>165</td>\n",
              "      <td>-67</td>\n",
              "      <td>-145</td>\n",
              "      <td>39</td>\n",
              "      <td>1</td>\n",
              "    </tr>\n",
              "    <tr>\n",
              "      <th>3</th>\n",
              "      <td>4</td>\n",
              "      <td>MUSK-211</td>\n",
              "      <td>211_1+12</td>\n",
              "      <td>41</td>\n",
              "      <td>-188</td>\n",
              "      <td>-145</td>\n",
              "      <td>22</td>\n",
              "      <td>-117</td>\n",
              "      <td>-7</td>\n",
              "      <td>57</td>\n",
              "      <td>-170</td>\n",
              "      <td>-39</td>\n",
              "      <td>-99</td>\n",
              "      <td>-319</td>\n",
              "      <td>-111</td>\n",
              "      <td>-228</td>\n",
              "      <td>-282</td>\n",
              "      <td>-281</td>\n",
              "      <td>-301</td>\n",
              "      <td>54</td>\n",
              "      <td>-150</td>\n",
              "      <td>-98</td>\n",
              "      <td>-196</td>\n",
              "      <td>-28</td>\n",
              "      <td>-22</td>\n",
              "      <td>2</td>\n",
              "      <td>77</td>\n",
              "      <td>48</td>\n",
              "      <td>-34</td>\n",
              "      <td>46</td>\n",
              "      <td>-91</td>\n",
              "      <td>32</td>\n",
              "      <td>94</td>\n",
              "      <td>-116</td>\n",
              "      <td>84</td>\n",
              "      <td>-23</td>\n",
              "      <td>41</td>\n",
              "      <td>-58</td>\n",
              "      <td>62</td>\n",
              "      <td>-171</td>\n",
              "      <td>...</td>\n",
              "      <td>88</td>\n",
              "      <td>-20</td>\n",
              "      <td>-32</td>\n",
              "      <td>32</td>\n",
              "      <td>-128</td>\n",
              "      <td>-73</td>\n",
              "      <td>-125</td>\n",
              "      <td>-220</td>\n",
              "      <td>-93</td>\n",
              "      <td>53</td>\n",
              "      <td>-78</td>\n",
              "      <td>-19</td>\n",
              "      <td>-34</td>\n",
              "      <td>-26</td>\n",
              "      <td>4</td>\n",
              "      <td>50</td>\n",
              "      <td>17</td>\n",
              "      <td>-177</td>\n",
              "      <td>-101</td>\n",
              "      <td>-121</td>\n",
              "      <td>-65</td>\n",
              "      <td>-77</td>\n",
              "      <td>52</td>\n",
              "      <td>-41</td>\n",
              "      <td>-34</td>\n",
              "      <td>-32</td>\n",
              "      <td>-66</td>\n",
              "      <td>115</td>\n",
              "      <td>-7</td>\n",
              "      <td>-236</td>\n",
              "      <td>-60</td>\n",
              "      <td>-4</td>\n",
              "      <td>52</td>\n",
              "      <td>104</td>\n",
              "      <td>136</td>\n",
              "      <td>168</td>\n",
              "      <td>-60</td>\n",
              "      <td>-135</td>\n",
              "      <td>80</td>\n",
              "      <td>1</td>\n",
              "    </tr>\n",
              "    <tr>\n",
              "      <th>4</th>\n",
              "      <td>5</td>\n",
              "      <td>MUSK-211</td>\n",
              "      <td>211_1+13</td>\n",
              "      <td>41</td>\n",
              "      <td>-188</td>\n",
              "      <td>-145</td>\n",
              "      <td>22</td>\n",
              "      <td>-117</td>\n",
              "      <td>-7</td>\n",
              "      <td>57</td>\n",
              "      <td>-170</td>\n",
              "      <td>-39</td>\n",
              "      <td>-99</td>\n",
              "      <td>-319</td>\n",
              "      <td>-111</td>\n",
              "      <td>-228</td>\n",
              "      <td>-282</td>\n",
              "      <td>-281</td>\n",
              "      <td>-301</td>\n",
              "      <td>54</td>\n",
              "      <td>-150</td>\n",
              "      <td>-98</td>\n",
              "      <td>-196</td>\n",
              "      <td>-28</td>\n",
              "      <td>-22</td>\n",
              "      <td>2</td>\n",
              "      <td>78</td>\n",
              "      <td>48</td>\n",
              "      <td>-34</td>\n",
              "      <td>46</td>\n",
              "      <td>-91</td>\n",
              "      <td>31</td>\n",
              "      <td>94</td>\n",
              "      <td>-116</td>\n",
              "      <td>84</td>\n",
              "      <td>-23</td>\n",
              "      <td>41</td>\n",
              "      <td>-58</td>\n",
              "      <td>62</td>\n",
              "      <td>-171</td>\n",
              "      <td>...</td>\n",
              "      <td>88</td>\n",
              "      <td>-20</td>\n",
              "      <td>-32</td>\n",
              "      <td>32</td>\n",
              "      <td>-128</td>\n",
              "      <td>-73</td>\n",
              "      <td>-125</td>\n",
              "      <td>-220</td>\n",
              "      <td>-93</td>\n",
              "      <td>53</td>\n",
              "      <td>-78</td>\n",
              "      <td>-19</td>\n",
              "      <td>-34</td>\n",
              "      <td>-26</td>\n",
              "      <td>4</td>\n",
              "      <td>50</td>\n",
              "      <td>17</td>\n",
              "      <td>-177</td>\n",
              "      <td>-101</td>\n",
              "      <td>-121</td>\n",
              "      <td>-65</td>\n",
              "      <td>-76</td>\n",
              "      <td>52</td>\n",
              "      <td>-41</td>\n",
              "      <td>-34</td>\n",
              "      <td>-32</td>\n",
              "      <td>-66</td>\n",
              "      <td>115</td>\n",
              "      <td>-8</td>\n",
              "      <td>-236</td>\n",
              "      <td>-60</td>\n",
              "      <td>-4</td>\n",
              "      <td>52</td>\n",
              "      <td>104</td>\n",
              "      <td>137</td>\n",
              "      <td>168</td>\n",
              "      <td>-60</td>\n",
              "      <td>-135</td>\n",
              "      <td>80</td>\n",
              "      <td>1</td>\n",
              "    </tr>\n",
              "  </tbody>\n",
              "</table>\n",
              "<p>5 rows × 170 columns</p>\n",
              "</div>"
            ],
            "text/plain": [
              "   ID molecule_name conformation_name  f1   f2  ...  f163  f164  f165  f166  class\n",
              "0   1      MUSK-211           211_1+1  46 -108  ...   156   -50  -112    96      1\n",
              "1   2      MUSK-211          211_1+10  41 -188  ...   169   -61  -136    79      1\n",
              "2   3      MUSK-211          211_1+11  46 -194  ...   165   -67  -145    39      1\n",
              "3   4      MUSK-211          211_1+12  41 -188  ...   168   -60  -135    80      1\n",
              "4   5      MUSK-211          211_1+13  41 -188  ...   168   -60  -135    80      1\n",
              "\n",
              "[5 rows x 170 columns]"
            ]
          },
          "metadata": {
            "tags": []
          },
          "execution_count": 2
        }
      ]
    },
    {
      "cell_type": "code",
      "metadata": {
        "colab": {
          "base_uri": "https://localhost:8080/"
        },
        "id": "LSvRGZU2X9V8",
        "outputId": "7f74e7d5-77ab-4373-9131-900385bd242c"
      },
      "source": [
        "df.info()"
      ],
      "execution_count": 3,
      "outputs": [
        {
          "output_type": "stream",
          "text": [
            "<class 'pandas.core.frame.DataFrame'>\n",
            "RangeIndex: 6598 entries, 0 to 6597\n",
            "Columns: 170 entries, ID to class\n",
            "dtypes: int64(168), object(2)\n",
            "memory usage: 8.6+ MB\n"
          ],
          "name": "stdout"
        }
      ]
    },
    {
      "cell_type": "code",
      "metadata": {
        "id": "sg3c2SYEYMuY",
        "colab": {
          "base_uri": "https://localhost:8080/",
          "height": 279
        },
        "outputId": "0ae5ecb4-23e0-43fe-b4a1-147b22630581"
      },
      "source": [
        "#Using PCA for dimensionality Reduction.\n",
        "from sklearn.decomposition import PCA\n",
        "pca = PCA().fit(df.drop(columns=['ID','molecule_name','conformation_name','class']))\n",
        "plt.plot(np.cumsum(pca.explained_variance_ratio_))\n",
        "plt.xlabel('number of components')\n",
        "plt.ylabel('cumulative explained variance');"
      ],
      "execution_count": 4,
      "outputs": [
        {
          "output_type": "display_data",
          "data": {
            "image/png": "[encoded data removed]",
            "text/plain": [
              "<Figure size 432x288 with 1 Axes>"
            ]
          },
          "metadata": {
            "tags": [],
            "needs_background": "light"
          }
        }
      ]
    },
    {
      "cell_type": "markdown",
      "metadata": {
        "id": "TjwJLUWJGyE6"
      },
      "source": [
        "**For about 90% of the variance we will have to take 25 dimensions.**"
      ]
    },
    {
      "cell_type": "code",
      "metadata": {
        "id": "0U9JzCNpF8f8"
      },
      "source": [
        "#By observing cumulative explained variance graph, using 25 principal components is apt.\n",
        "pca = PCA(n_components=25)\n",
        "new_df = pca.fit_transform(df.drop(columns=['ID','molecule_name','conformation_name','class']))"
      ],
      "execution_count": 5,
      "outputs": []
    },
    {
      "cell_type": "code",
      "metadata": {
        "id": "zotpGKKdZUgN"
      },
      "source": [
        "#Importing split function and metrics.\n",
        "from sklearn.model_selection import train_test_split\n",
        "from sklearn.metrics import accuracy_score,confusion_matrix,f1_score,roc_auc_score,precision_score,recall_score\n",
        "\n",
        "X = new_df\n",
        "Y = df['class']\n",
        "X_train, X_val, Y_train, Y_val = train_test_split(X, Y, test_size=0.20, random_state=12)"
      ],
      "execution_count": 6,
      "outputs": []
    },
    {
      "cell_type": "code",
      "metadata": {
        "id": "DVx8vbrgQHaw"
      },
      "source": [
        "#Defining a function to print metrics.\n",
        "def print_metrics(prediction, actual):\n",
        "  print('accuracy_score:',accuracy_score(prediction, actual))\n",
        "  print('confusion_matrix:\\n',confusion_matrix(prediction,actual))\n",
        "  print('f1_score:',f1_score(prediction,actual))\n",
        "  print('roc_auc_score:',roc_auc_score(prediction,actual))\n",
        "  print('precision_score:',precision_score(prediction,actual))\n",
        "  print('recall_score:',recall_score(prediction,actual))"
      ],
      "execution_count": 7,
      "outputs": []
    },
    {
      "cell_type": "code",
      "metadata": {
        "colab": {
          "base_uri": "https://localhost:8080/"
        },
        "id": "rqx5c6yQinsA",
        "outputId": "0708bc89-2b23-4564-d8d4-7f475a22573d"
      },
      "source": [
        "#Defining the ANN model using keras sequential api.\n",
        "model = tf.keras.Sequential([\n",
        "  layers.Dense(64, activation='relu', input_shape=(25,), kernel_regularizer=tf.keras.regularizers.l1(0.01)),\n",
        "  layers.Dropout(0.1),\n",
        "  layers.Dense(32, activation='relu', kernel_regularizer=tf.keras.regularizers.l1(0.01)),\n",
        "  layers.Dropout(0.1),\n",
        "  layers.Dense(16, activation='relu', kernel_regularizer=tf.keras.regularizers.l1(0.01)),\n",
        "  layers.Dropout(0.05),\n",
        "  layers.Dense(1, activation='sigmoid')])\n",
        "\n",
        "model.summary()"
      ],
      "execution_count": 8,
      "outputs": [
        {
          "output_type": "stream",
          "text": [
            "Model: \"sequential\"\n",
            "_________________________________________________________________\n",
            "Layer (type)                 Output Shape              Param #   \n",
            "=================================================================\n",
            "dense (Dense)                (None, 64)                1664      \n",
            "_________________________________________________________________\n",
            "dropout (Dropout)            (None, 64)                0         \n",
            "_________________________________________________________________\n",
            "dense_1 (Dense)              (None, 32)                2080      \n",
            "_________________________________________________________________\n",
            "dropout_1 (Dropout)          (None, 32)                0         \n",
            "_________________________________________________________________\n",
            "dense_2 (Dense)              (None, 16)                528       \n",
            "_________________________________________________________________\n",
            "dropout_2 (Dropout)          (None, 16)                0         \n",
            "_________________________________________________________________\n",
            "dense_3 (Dense)              (None, 1)                 17        \n",
            "=================================================================\n",
            "Total params: 4,289\n",
            "Trainable params: 4,289\n",
            "Non-trainable params: 0\n",
            "_________________________________________________________________\n"
          ],
          "name": "stdout"
        }
      ]
    },
    {
      "cell_type": "code",
      "metadata": {
        "id": "u3PAOnYQin3m"
      },
      "source": [
        "#Compiling model.\n",
        "model.compile(optimizer='adam',\n",
        "              loss=tf.keras.losses.binary_crossentropy,\n",
        "              metrics=['accuracy','Precision','Recall','AUC'])"
      ],
      "execution_count": 9,
      "outputs": []
    },
    {
      "cell_type": "code",
      "metadata": {
        "id": "w6o0vAInKTzv"
      },
      "source": [
        "#Definig the early stopping callback.\n",
        "callback = tf.keras.callbacks.EarlyStopping(monitor='loss', patience=3)"
      ],
      "execution_count": 10,
      "outputs": []
    },
    {
      "cell_type": "code",
      "metadata": {
        "colab": {
          "base_uri": "https://localhost:8080/"
        },
        "id": "cZzfQBhKin3D",
        "outputId": "660c4096-a87a-4cfe-8c44-3400ee5b461b"
      },
      "source": [
        "#Fitting the train data.\n",
        "hist = model.fit(X_train, Y_train, batch_size=32,epochs=100, callbacks=callback, validation_data=(X_val, Y_val))"
      ],
      "execution_count": 11,
      "outputs": [
        {
          "output_type": "stream",
          "text": [
            "Epoch 1/100\n",
            "165/165 [==============================] - 1s 5ms/step - loss: 11.3091 - accuracy: 0.8105 - precision: 0.3877 - recall: 0.3868 - auc: 0.6591 - val_loss: 6.5675 - val_accuracy: 0.9023 - val_precision: 0.7591 - val_recall: 0.5200 - val_auc: 0.8100\n",
            "Epoch 2/100\n",
            "165/165 [==============================] - 0s 2ms/step - loss: 7.2738 - accuracy: 0.8611 - precision: 0.5525 - recall: 0.5410 - auc: 0.7680 - val_loss: 5.7205 - val_accuracy: 0.8970 - val_precision: 0.6951 - val_recall: 0.5700 - val_auc: 0.8785\n",
            "Epoch 3/100\n",
            "165/165 [==============================] - 0s 2ms/step - loss: 6.1947 - accuracy: 0.8698 - precision: 0.5888 - recall: 0.5275 - auc: 0.8061 - val_loss: 5.3589 - val_accuracy: 0.9129 - val_precision: 0.7545 - val_recall: 0.6300 - val_auc: 0.9017\n",
            "Epoch 4/100\n",
            "165/165 [==============================] - 0s 2ms/step - loss: 5.5995 - accuracy: 0.8842 - precision: 0.6585 - recall: 0.5239 - auc: 0.8452 - val_loss: 5.1181 - val_accuracy: 0.9205 - val_precision: 0.8369 - val_recall: 0.5900 - val_auc: 0.9036\n",
            "Epoch 5/100\n",
            "165/165 [==============================] - 0s 2ms/step - loss: 5.2131 - accuracy: 0.8939 - precision: 0.7243 - recall: 0.5080 - auc: 0.8602 - val_loss: 4.8833 - val_accuracy: 0.9167 - val_precision: 0.8409 - val_recall: 0.5550 - val_auc: 0.9017\n",
            "Epoch 6/100\n",
            "165/165 [==============================] - 0s 2ms/step - loss: 4.9214 - accuracy: 0.8924 - precision: 0.7446 - recall: 0.4639 - auc: 0.8674 - val_loss: 4.6177 - val_accuracy: 0.9235 - val_precision: 0.9381 - val_recall: 0.5300 - val_auc: 0.9246\n",
            "Epoch 7/100\n",
            "165/165 [==============================] - 0s 3ms/step - loss: 4.6198 - accuracy: 0.8996 - precision: 0.8034 - recall: 0.4651 - auc: 0.8868 - val_loss: 4.3563 - val_accuracy: 0.9205 - val_precision: 0.9612 - val_recall: 0.4950 - val_auc: 0.9446\n",
            "Epoch 8/100\n",
            "165/165 [==============================] - 0s 2ms/step - loss: 4.3644 - accuracy: 0.9002 - precision: 0.8072 - recall: 0.4663 - auc: 0.8969 - val_loss: 4.1172 - val_accuracy: 0.9242 - val_precision: 0.9310 - val_recall: 0.5400 - val_auc: 0.9561\n",
            "Epoch 9/100\n",
            "165/165 [==============================] - 0s 2ms/step - loss: 4.1048 - accuracy: 0.9039 - precision: 0.8444 - recall: 0.4651 - auc: 0.8986 - val_loss: 3.8769 - val_accuracy: 0.9265 - val_precision: 0.9905 - val_recall: 0.5200 - val_auc: 0.9543\n",
            "Epoch 10/100\n",
            "165/165 [==============================] - 0s 2ms/step - loss: 3.8160 - accuracy: 0.9115 - precision: 0.8855 - recall: 0.4920 - auc: 0.9173 - val_loss: 3.6186 - val_accuracy: 0.9288 - val_precision: 1.0000 - val_recall: 0.5300 - val_auc: 0.9602\n",
            "Epoch 11/100\n",
            "165/165 [==============================] - 0s 2ms/step - loss: 3.5585 - accuracy: 0.9121 - precision: 0.8896 - recall: 0.4933 - auc: 0.9221 - val_loss: 3.3622 - val_accuracy: 0.9295 - val_precision: 1.0000 - val_recall: 0.5350 - val_auc: 0.9643\n",
            "Epoch 12/100\n",
            "165/165 [==============================] - 0s 2ms/step - loss: 3.2955 - accuracy: 0.9125 - precision: 0.8989 - recall: 0.4896 - auc: 0.9272 - val_loss: 3.0900 - val_accuracy: 0.9341 - val_precision: 0.9913 - val_recall: 0.5700 - val_auc: 0.9716\n",
            "Epoch 13/100\n",
            "165/165 [==============================] - 0s 2ms/step - loss: 3.0242 - accuracy: 0.9142 - precision: 0.9062 - recall: 0.4969 - auc: 0.9343 - val_loss: 2.8329 - val_accuracy: 0.9326 - val_precision: 0.9912 - val_recall: 0.5600 - val_auc: 0.9743\n",
            "Epoch 14/100\n",
            "165/165 [==============================] - 0s 2ms/step - loss: 2.7629 - accuracy: 0.9164 - precision: 0.9178 - recall: 0.5055 - auc: 0.9416 - val_loss: 2.5814 - val_accuracy: 0.9303 - val_precision: 0.9909 - val_recall: 0.5450 - val_auc: 0.9711\n",
            "Epoch 15/100\n",
            "165/165 [==============================] - 0s 2ms/step - loss: 2.5145 - accuracy: 0.9146 - precision: 0.9378 - recall: 0.4798 - auc: 0.9329 - val_loss: 2.3321 - val_accuracy: 0.9311 - val_precision: 1.0000 - val_recall: 0.5450 - val_auc: 0.9715\n",
            "Epoch 16/100\n",
            "165/165 [==============================] - 0s 2ms/step - loss: 2.2654 - accuracy: 0.9172 - precision: 0.9130 - recall: 0.5141 - auc: 0.9385 - val_loss: 2.0996 - val_accuracy: 0.9333 - val_precision: 1.0000 - val_recall: 0.5600 - val_auc: 0.9719\n",
            "Epoch 17/100\n",
            "165/165 [==============================] - 0s 2ms/step - loss: 2.0273 - accuracy: 0.9170 - precision: 0.8973 - recall: 0.5239 - auc: 0.9422 - val_loss: 1.8563 - val_accuracy: 0.9311 - val_precision: 0.9910 - val_recall: 0.5500 - val_auc: 0.9754\n",
            "Epoch 18/100\n",
            "165/165 [==============================] - 0s 2ms/step - loss: 1.8045 - accuracy: 0.9166 - precision: 0.9089 - recall: 0.5129 - auc: 0.9434 - val_loss: 1.6504 - val_accuracy: 0.9326 - val_precision: 0.9826 - val_recall: 0.5650 - val_auc: 0.9754\n",
            "Epoch 19/100\n",
            "165/165 [==============================] - 0s 2ms/step - loss: 1.5984 - accuracy: 0.9183 - precision: 0.9021 - recall: 0.5300 - auc: 0.9429 - val_loss: 1.4537 - val_accuracy: 0.9371 - val_precision: 0.9916 - val_recall: 0.5900 - val_auc: 0.9764\n",
            "Epoch 20/100\n",
            "165/165 [==============================] - 0s 2ms/step - loss: 1.4141 - accuracy: 0.9193 - precision: 0.9031 - recall: 0.5361 - auc: 0.9407 - val_loss: 1.2716 - val_accuracy: 0.9333 - val_precision: 0.9912 - val_recall: 0.5650 - val_auc: 0.9791\n",
            "Epoch 21/100\n",
            "165/165 [==============================] - 0s 2ms/step - loss: 1.2339 - accuracy: 0.9242 - precision: 0.9195 - recall: 0.5594 - auc: 0.9432 - val_loss: 1.1028 - val_accuracy: 0.9364 - val_precision: 0.9833 - val_recall: 0.5900 - val_auc: 0.9772\n",
            "Epoch 22/100\n",
            "165/165 [==============================] - 0s 2ms/step - loss: 1.0833 - accuracy: 0.9242 - precision: 0.9002 - recall: 0.5741 - auc: 0.9459 - val_loss: 0.9725 - val_accuracy: 0.9447 - val_precision: 0.9774 - val_recall: 0.6500 - val_auc: 0.9707\n",
            "Epoch 23/100\n",
            "165/165 [==============================] - 0s 2ms/step - loss: 0.9440 - accuracy: 0.9284 - precision: 0.8913 - recall: 0.6120 - auc: 0.9493 - val_loss: 0.8559 - val_accuracy: 0.9477 - val_precision: 0.9645 - val_recall: 0.6800 - val_auc: 0.9777\n",
            "Epoch 24/100\n",
            "165/165 [==============================] - 0s 2ms/step - loss: 0.8248 - accuracy: 0.9316 - precision: 0.8813 - recall: 0.6450 - auc: 0.9535 - val_loss: 0.7356 - val_accuracy: 0.9417 - val_precision: 0.9695 - val_recall: 0.6350 - val_auc: 0.9772\n",
            "Epoch 25/100\n",
            "165/165 [==============================] - 0s 2ms/step - loss: 0.7255 - accuracy: 0.9318 - precision: 0.9117 - recall: 0.6193 - auc: 0.9568 - val_loss: 0.6415 - val_accuracy: 0.9492 - val_precision: 0.9524 - val_recall: 0.7000 - val_auc: 0.9765\n",
            "Epoch 26/100\n",
            "165/165 [==============================] - 0s 2ms/step - loss: 0.6368 - accuracy: 0.9358 - precision: 0.8970 - recall: 0.6610 - auc: 0.9590 - val_loss: 0.5604 - val_accuracy: 0.9417 - val_precision: 0.9556 - val_recall: 0.6450 - val_auc: 0.9792\n",
            "Epoch 27/100\n",
            "165/165 [==============================] - 0s 2ms/step - loss: 0.5597 - accuracy: 0.9369 - precision: 0.8916 - recall: 0.6744 - auc: 0.9622 - val_loss: 0.4890 - val_accuracy: 0.9515 - val_precision: 0.9658 - val_recall: 0.7050 - val_auc: 0.9818\n",
            "Epoch 28/100\n",
            "165/165 [==============================] - 0s 2ms/step - loss: 0.4944 - accuracy: 0.9392 - precision: 0.9120 - recall: 0.6720 - auc: 0.9648 - val_loss: 0.4239 - val_accuracy: 0.9477 - val_precision: 0.9517 - val_recall: 0.6900 - val_auc: 0.9839\n",
            "Epoch 29/100\n",
            "165/165 [==============================] - 0s 2ms/step - loss: 0.4345 - accuracy: 0.9415 - precision: 0.8944 - recall: 0.7050 - auc: 0.9683 - val_loss: 0.3790 - val_accuracy: 0.9515 - val_precision: 0.9048 - val_recall: 0.7600 - val_auc: 0.9824\n",
            "Epoch 30/100\n",
            "165/165 [==============================] - 0s 2ms/step - loss: 0.3981 - accuracy: 0.9390 - precision: 0.8814 - recall: 0.7001 - auc: 0.9674 - val_loss: 0.3393 - val_accuracy: 0.9477 - val_precision: 0.9281 - val_recall: 0.7100 - val_auc: 0.9857\n",
            "Epoch 31/100\n",
            "165/165 [==============================] - 0s 2ms/step - loss: 0.3562 - accuracy: 0.9409 - precision: 0.8915 - recall: 0.7038 - auc: 0.9711 - val_loss: 0.3146 - val_accuracy: 0.9485 - val_precision: 0.9648 - val_recall: 0.6850 - val_auc: 0.9841\n",
            "Epoch 32/100\n",
            "165/165 [==============================] - 0s 2ms/step - loss: 0.3291 - accuracy: 0.9471 - precision: 0.9126 - recall: 0.7283 - auc: 0.9720 - val_loss: 0.2817 - val_accuracy: 0.9508 - val_precision: 0.9592 - val_recall: 0.7050 - val_auc: 0.9889\n",
            "Epoch 33/100\n",
            "165/165 [==============================] - 0s 2ms/step - loss: 0.3104 - accuracy: 0.9449 - precision: 0.9059 - recall: 0.7185 - auc: 0.9724 - val_loss: 0.2684 - val_accuracy: 0.9508 - val_precision: 0.9592 - val_recall: 0.7050 - val_auc: 0.9882\n",
            "Epoch 34/100\n",
            "165/165 [==============================] - 0s 2ms/step - loss: 0.2978 - accuracy: 0.9416 - precision: 0.8885 - recall: 0.7124 - auc: 0.9707 - val_loss: 0.2521 - val_accuracy: 0.9523 - val_precision: 0.9597 - val_recall: 0.7150 - val_auc: 0.9886\n",
            "Epoch 35/100\n",
            "165/165 [==============================] - 0s 2ms/step - loss: 0.2864 - accuracy: 0.9413 - precision: 0.8906 - recall: 0.7075 - auc: 0.9715 - val_loss: 0.2392 - val_accuracy: 0.9583 - val_precision: 0.9448 - val_recall: 0.7700 - val_auc: 0.9890\n",
            "Epoch 36/100\n",
            "165/165 [==============================] - 0s 2ms/step - loss: 0.2731 - accuracy: 0.9439 - precision: 0.8871 - recall: 0.7307 - auc: 0.9728 - val_loss: 0.2323 - val_accuracy: 0.9538 - val_precision: 0.9728 - val_recall: 0.7150 - val_auc: 0.9901\n",
            "Epoch 37/100\n",
            "165/165 [==============================] - 0s 2ms/step - loss: 0.2570 - accuracy: 0.9485 - precision: 0.8932 - recall: 0.7576 - auc: 0.9757 - val_loss: 0.2414 - val_accuracy: 0.9583 - val_precision: 0.9618 - val_recall: 0.7550 - val_auc: 0.9795\n",
            "Epoch 38/100\n",
            "165/165 [==============================] - 0s 2ms/step - loss: 0.2559 - accuracy: 0.9433 - precision: 0.8798 - recall: 0.7344 - auc: 0.9761 - val_loss: 0.2282 - val_accuracy: 0.9508 - val_precision: 0.9720 - val_recall: 0.6950 - val_auc: 0.9862\n",
            "Epoch 39/100\n",
            "165/165 [==============================] - 0s 2ms/step - loss: 0.2499 - accuracy: 0.9466 - precision: 0.8773 - recall: 0.7613 - auc: 0.9758 - val_loss: 0.2240 - val_accuracy: 0.9545 - val_precision: 0.9667 - val_recall: 0.7250 - val_auc: 0.9854\n",
            "Epoch 40/100\n",
            "165/165 [==============================] - 0s 2ms/step - loss: 0.2481 - accuracy: 0.9454 - precision: 0.8884 - recall: 0.7405 - auc: 0.9746 - val_loss: 0.2173 - val_accuracy: 0.9538 - val_precision: 0.9427 - val_recall: 0.7400 - val_auc: 0.9876\n",
            "Epoch 41/100\n",
            "165/165 [==============================] - 0s 2ms/step - loss: 0.2427 - accuracy: 0.9477 - precision: 0.8881 - recall: 0.7576 - auc: 0.9772 - val_loss: 0.2059 - val_accuracy: 0.9621 - val_precision: 0.9518 - val_recall: 0.7900 - val_auc: 0.9878\n",
            "Epoch 42/100\n",
            "165/165 [==============================] - 0s 2ms/step - loss: 0.2387 - accuracy: 0.9483 - precision: 0.8810 - recall: 0.7699 - auc: 0.9767 - val_loss: 0.2024 - val_accuracy: 0.9644 - val_precision: 0.9693 - val_recall: 0.7900 - val_auc: 0.9903\n",
            "Epoch 43/100\n",
            "165/165 [==============================] - 0s 2ms/step - loss: 0.2363 - accuracy: 0.9466 - precision: 0.8816 - recall: 0.7564 - auc: 0.9777 - val_loss: 0.2027 - val_accuracy: 0.9621 - val_precision: 0.9870 - val_recall: 0.7600 - val_auc: 0.9910\n",
            "Epoch 44/100\n",
            "165/165 [==============================] - 0s 2ms/step - loss: 0.2295 - accuracy: 0.9515 - precision: 0.8923 - recall: 0.7809 - auc: 0.9794 - val_loss: 0.2040 - val_accuracy: 0.9598 - val_precision: 0.9623 - val_recall: 0.7650 - val_auc: 0.9896\n",
            "Epoch 45/100\n",
            "165/165 [==============================] - 0s 2ms/step - loss: 0.2243 - accuracy: 0.9532 - precision: 0.8926 - recall: 0.7931 - auc: 0.9800 - val_loss: 0.1917 - val_accuracy: 0.9674 - val_precision: 0.9591 - val_recall: 0.8200 - val_auc: 0.9914\n",
            "Epoch 46/100\n",
            "165/165 [==============================] - 0s 2ms/step - loss: 0.2318 - accuracy: 0.9488 - precision: 0.8752 - recall: 0.7809 - auc: 0.9772 - val_loss: 0.2052 - val_accuracy: 0.9591 - val_precision: 0.9679 - val_recall: 0.7550 - val_auc: 0.9907\n",
            "Epoch 47/100\n",
            "165/165 [==============================] - 0s 2ms/step - loss: 0.2342 - accuracy: 0.9481 - precision: 0.8714 - recall: 0.7797 - auc: 0.9769 - val_loss: 0.1939 - val_accuracy: 0.9667 - val_precision: 0.9483 - val_recall: 0.8250 - val_auc: 0.9913\n",
            "Epoch 48/100\n",
            "165/165 [==============================] - 0s 2ms/step - loss: 0.2274 - accuracy: 0.9502 - precision: 0.8713 - recall: 0.7956 - auc: 0.9798 - val_loss: 0.1977 - val_accuracy: 0.9583 - val_precision: 0.9503 - val_recall: 0.7650 - val_auc: 0.9906\n"
          ],
          "name": "stdout"
        }
      ]
    },
    {
      "cell_type": "code",
      "metadata": {
        "colab": {
          "base_uri": "https://localhost:8080/"
        },
        "id": "Ob7JxWmfkuX_",
        "outputId": "8ef82690-8482-415e-eecc-b0cf5a465fb2"
      },
      "source": [
        "print(hist.history.keys())"
      ],
      "execution_count": 13,
      "outputs": [
        {
          "output_type": "stream",
          "text": [
            "dict_keys(['loss', 'accuracy', 'precision', 'recall', 'auc', 'val_loss', 'val_accuracy', 'val_precision', 'val_recall', 'val_auc'])\n"
          ],
          "name": "stdout"
        }
      ]
    },
    {
      "cell_type": "code",
      "metadata": {
        "colab": {
          "base_uri": "https://localhost:8080/",
          "height": 295
        },
        "id": "qX7KozJdK6tL",
        "outputId": "5709f4b0-1cd6-407e-ee07-fee33c1862b6"
      },
      "source": [
        "#Plotting the Loss graph.\n",
        "plt.plot(hist.history['loss'])\n",
        "plt.plot(hist.history['val_loss'])\n",
        "plt.xlabel('Epochs')\n",
        "plt.ylabel('Losses')\n",
        "plt.legend(('Training Loss','Validation Loss'))\n",
        "plt.title('Loss curves')\n",
        "plt.show()"
      ],
      "execution_count": 14,
      "outputs": [
        {
          "output_type": "display_data",
          "data": {
            "image/png": "[encoded data removed]",
            "text/plain": [
              "<Figure size 432x288 with 1 Axes>"
            ]
          },
          "metadata": {
            "tags": [],
            "needs_background": "light"
          }
        }
      ]
    },
    {
      "cell_type": "code",
      "metadata": {
        "colab": {
          "base_uri": "https://localhost:8080/",
          "height": 295
        },
        "id": "HS92OfUWMmxB",
        "outputId": "62d4b7de-ff73-4af8-c62d-1d990af016e8"
      },
      "source": [
        "#Plotting the accuracy graph.\n",
        "plt.plot(hist.history['accuracy'])\n",
        "plt.plot(hist.history['val_accuracy'])\n",
        "plt.xlabel('Epochs')\n",
        "plt.ylabel('Accuracy')\n",
        "plt.legend(('Training Accuracy','Validation Accuracy'))\n",
        "plt.title('Accuracy curves')\n",
        "plt.show()"
      ],
      "execution_count": 15,
      "outputs": [
        {
          "output_type": "display_data",
          "data": {
            "image/png": "[encoded data removed]",
            "text/plain": [
              "<Figure size 432x288 with 1 Axes>"
            ]
          },
          "metadata": {
            "tags": [],
            "needs_background": "light"
          }
        }
      ]
    },
    {
      "cell_type": "code",
      "metadata": {
        "id": "3egXYZr-ONP_"
      },
      "source": [
        "#Saving the model\n",
        "model.save('ann1.h5')"
      ],
      "execution_count": 16,
      "outputs": []
    },
    {
      "cell_type": "code",
      "metadata": {
        "id": "kD5D2Ad0Pvs4"
      },
      "source": [
        "#Prediction on the Validation data.\n",
        "val_predicted = model(X_val)"
      ],
      "execution_count": 17,
      "outputs": []
    },
    {
      "cell_type": "code",
      "metadata": {
        "id": "km2NRZtdQgjj"
      },
      "source": [
        "#Rounding the prediction.\n",
        "val_round = np.round(val_predicted)"
      ],
      "execution_count": 19,
      "outputs": []
    },
    {
      "cell_type": "code",
      "metadata": {
        "colab": {
          "base_uri": "https://localhost:8080/"
        },
        "id": "95v5YjWyQD5O",
        "outputId": "85a7b6a4-7041-4ca3-e080-14ad0807b909"
      },
      "source": [
        "#Printing the metrics.\n",
        "print_metrics(val_round, Y_val)"
      ],
      "execution_count": 21,
      "outputs": [
        {
          "output_type": "stream",
          "text": [
            "accuracy_score: 0.9583333333333334\n",
            "confusion_matrix:\n",
            " [[1112   47]\n",
            " [   8  153]]\n",
            "f1_score: 0.8476454293628808\n",
            "roc_auc_score: 0.9548791794168243\n",
            "precision_score: 0.765\n",
            "recall_score: 0.9503105590062112\n"
          ],
          "name": "stdout"
        }
      ]
    },
    {
      "cell_type": "code",
      "metadata": {
        "id": "dJ8BCcjsQdN1"
      },
      "source": [
        ""
      ],
      "execution_count": null,
      "outputs": []
    }
  ]
}